{
 "cells": [
  {
   "cell_type": "code",
   "execution_count": 1,
   "id": "6a953f08-1337-47a4-bc27-fca65d7d4a91",
   "metadata": {},
   "outputs": [],
   "source": [
    "#Funtion, Method and Class in Python"
   ]
  },
  {
   "cell_type": "code",
   "execution_count": 33,
   "id": "853fc9b7-10da-4248-ad45-871bff5ace8b",
   "metadata": {},
   "outputs": [
    {
     "name": "stdout",
     "output_type": "stream",
     "text": [
      "Hello this is me MRr__Umer and my age is 24 years\n"
     ]
    }
   ],
   "source": [
    "class Myclass:\n",
    "    def __init__(self, name, age):\n",
    "        self.name = name\n",
    "        self.age = age\n",
    "\n",
    "    def myfunction(self):\n",
    "         print(\"Hello this is me \" + self.name, \"and my age is\" , self.age, 'years') \n",
    "         # print(\"and my age is \" + self.age, 'years')\n",
    "\n",
    "p = Myclass(\"MRr__Umer\", 24)\n",
    "p.myfunction()"
   ]
  },
  {
   "cell_type": "code",
   "execution_count": 44,
   "id": "19290ea7-bbb6-43de-b930-bf2105c00e0f",
   "metadata": {},
   "outputs": [
    {
     "name": "stdout",
     "output_type": "stream",
     "text": [
      "My name is Umer\n",
      "and my age is 40\n"
     ]
    },
    {
     "data": {
      "text/plain": [
       "40"
      ]
     },
     "execution_count": 44,
     "metadata": {},
     "output_type": "execute_result"
    }
   ],
   "source": [
    "class MyClass:\n",
    "    def __init__(self, name, age):\n",
    "        self.name = name\n",
    "        self.age = age\n",
    "        \n",
    "    def My_Class(self):\n",
    "        print(\"My name is \" + self.name)\n",
    "        print(\"and my age is \" +str(self.age))\n",
    "\n",
    "p1 = MyClass(\"Umer\", 24)\n",
    "p1.age = 40\n",
    "p1.My_Class()\n",
    "p1.age\n",
    "    "
   ]
  },
  {
   "cell_type": "code",
   "execution_count": 47,
   "id": "74397bc4-a621-4c07-a232-7a336a0aae4d",
   "metadata": {},
   "outputs": [
    {
     "name": "stdout",
     "output_type": "stream",
     "text": [
      "The youngest child is Umer\n"
     ]
    }
   ],
   "source": [
    "def my_function(*child):\n",
    "    print(\"The youngest child is \" + child[2])\n",
    "\n",
    "my_function(\"Hilal\", \"Bilal\", \"Umer\")"
   ]
  },
  {
   "cell_type": "code",
   "execution_count": 48,
   "id": "e8adb385-03e9-4161-977e-2b4cec5908eb",
   "metadata": {},
   "outputs": [
    {
     "name": "stdout",
     "output_type": "stream",
     "text": [
      "Hello this is me Bilal\n"
     ]
    }
   ],
   "source": [
    "def myfunction(*boy):\n",
    "    print(\"Hello this is me \" +boy[1] )\n",
    "\n",
    "myfunction(\"Hilal\", \"Bilal\", \"Umer\")"
   ]
  },
  {
   "cell_type": "code",
   "execution_count": 49,
   "id": "ca1b0d80-e582-4886-bac0-5e582d815c7b",
   "metadata": {},
   "outputs": [
    {
     "name": "stdout",
     "output_type": "stream",
     "text": [
      "The youngest child is Hilal\n"
     ]
    }
   ],
   "source": [
    "def myfunction(child1, child2, child3):\n",
    "    print(\"The youngest child is \" + child3)\n",
    "\n",
    "myfunction(child1 = \"Umer\", child2 = \"Bilal\", child3 = \"Hilal\")"
   ]
  },
  {
   "cell_type": "code",
   "execution_count": 52,
   "id": "6241599a-324b-416f-9d8c-da260e1a36b7",
   "metadata": {},
   "outputs": [
    {
     "name": "stdout",
     "output_type": "stream",
     "text": [
      "His last name is Khan and his first name is Umer\n"
     ]
    }
   ],
   "source": [
    "def myfunction(**boy):\n",
    "    print(\"His last name is \" + boy[\"lname\"], \"and his first name is \" + boy[\"fname\"])\n",
    "\n",
    "myfunction(fname = \"Umer\", lname = \"Khan\")"
   ]
  },
  {
   "cell_type": "code",
   "execution_count": 55,
   "id": "457692f5-ec9b-457f-8838-7e7c82456bbc",
   "metadata": {},
   "outputs": [
    {
     "name": "stdout",
     "output_type": "stream",
     "text": [
      "I am from Pakistan\n",
      "I am from India\n",
      "I am from Dubi\n",
      "I am from Afghanistan\n"
     ]
    }
   ],
   "source": [
    "def my_function(contry = \"Dubi\"):\n",
    "    print(\"I am from \" + contry)\n",
    "\n",
    "my_function(\"Pakistan\")\n",
    "my_function(\"India\")\n",
    "my_function()\n",
    "my_function(\"Afghanistan\")"
   ]
  },
  {
   "cell_type": "code",
   "execution_count": 59,
   "id": "fe31ec67-aa5e-459d-83d5-821324a213c6",
   "metadata": {},
   "outputs": [
    {
     "name": "stdout",
     "output_type": "stream",
     "text": [
      "['apple', 'banana', 'mango']\n"
     ]
    }
   ],
   "source": [
    "def my_function(self):\n",
    "    for x in self:\n",
    "        print(x)\n",
    "new_list = []\n",
    "fruits = [\"apple\", \"banana\", \"mango\"]\n",
    "new_list.append(fruits)\n",
    "my_function(new_list)"
   ]
  },
  {
   "cell_type": "code",
   "execution_count": 70,
   "id": "a90e8657-fbe5-4436-b6ca-77436da176a1",
   "metadata": {},
   "outputs": [
    {
     "data": {
      "text/plain": [
       "20"
      ]
     },
     "execution_count": 70,
     "metadata": {},
     "output_type": "execute_result"
    }
   ],
   "source": [
    "def my_function(x):\n",
    "    return 5*x\n",
    "\n",
    "# print(my_function(3))\n",
    "# print(my_function(4))\n",
    "# print(my_function(5))\n",
    "my_function(3)\n",
    "my_function(4)\n",
    "# my_function(5)"
   ]
  },
  {
   "cell_type": "code",
   "execution_count": 72,
   "id": "da558852-b88a-4cfc-9cdc-b02d230e5ad0",
   "metadata": {},
   "outputs": [
    {
     "name": "stdout",
     "output_type": "stream",
     "text": [
      "27\n"
     ]
    }
   ],
   "source": [
    "def my_function(a,b,/,*,c,d):\n",
    "    print(a+b+c+d)\n",
    "\n",
    "my_function(5,6 , c=7, d=9)"
   ]
  },
  {
   "cell_type": "code",
   "execution_count": null,
   "id": "8c40a231-9fda-4497-a082-4c32af8be654",
   "metadata": {},
   "outputs": [],
   "source": []
  },
  {
   "cell_type": "code",
   "execution_count": 85,
   "id": "5b96d9ee-81e7-4411-8054-71cb5b9f1826",
   "metadata": {},
   "outputs": [
    {
     "name": "stdout",
     "output_type": "stream",
     "text": [
      "60\n"
     ]
    }
   ],
   "source": [
    "def fact(n):\n",
    "    if n==0:\n",
    "        return 1\n",
    "    else:\n",
    "        return n *fact (n-1)\n",
    "\n",
    "print(fact(5))"
   ]
  },
  {
   "cell_type": "code",
   "execution_count": 78,
   "id": "04ada04f-62fd-476c-b88a-b8910ac530b2",
   "metadata": {},
   "outputs": [
    {
     "name": "stdout",
     "output_type": "stream",
     "text": [
      "120\n"
     ]
    }
   ],
   "source": [
    "def factorial(n):\n",
    "    if n==0:\n",
    "        return 1\n",
    "    else:\n",
    "        return n*factorial(n-1)\n",
    "print(factorial(5))"
   ]
  },
  {
   "cell_type": "code",
   "execution_count": null,
   "id": "56074e3b-38f2-4dab-93e8-fd4ed34a27b4",
   "metadata": {},
   "outputs": [],
   "source": []
  }
 ],
 "metadata": {
  "kernelspec": {
   "display_name": "Python 3 (ipykernel)",
   "language": "python",
   "name": "python3"
  },
  "language_info": {
   "codemirror_mode": {
    "name": "ipython",
    "version": 3
   },
   "file_extension": ".py",
   "mimetype": "text/x-python",
   "name": "python",
   "nbconvert_exporter": "python",
   "pygments_lexer": "ipython3",
   "version": "3.12.7"
  }
 },
 "nbformat": 4,
 "nbformat_minor": 5
}
